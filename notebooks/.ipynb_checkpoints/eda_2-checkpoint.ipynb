{
 "cells": [
  {
   "cell_type": "code",
   "execution_count": 39,
   "metadata": {},
   "outputs": [],
   "source": [
    "# def get_data(train_size=0.8):\n",
    "    \n",
    "#     split_index = int(train_size*len(data))\n",
    "\n",
    "#     X = data.drop(columns=['label'])\n",
    "#     y = data['label']\n",
    "    \n",
    "#     x_train, y_train = X[:split_index], y[:split_index]\n",
    "#     x_test, y_test = X[split_index:], y[split_index:]\n",
    "    \n",
    "#     return x_train, y_train, x_test, y_test\n",
    "# x_train, y_train, x_test, y_test = get_data()\n",
    "\n",
    "# get_feature(np.array(data['ch4']),3,'mav1')\n",
    "# X = X.diff().fillna(0)\n"
   ]
  },
  {
   "cell_type": "code",
   "execution_count": 82,
   "metadata": {},
   "outputs": [],
   "source": [
    "import pandas as pd\n",
    "import numpy as np\n",
    "import matplotlib.pyplot as plt\n",
    "from sklearn.preprocessing import StandardScaler, MinMaxScaler\n",
    "from sklearn.metrics import classification_report, confusion_matrix\n",
    "from xgboost import XGBClassifier\n",
    "from sklearn.model_selection import GridSearchCV\n",
    "import joblib\n",
    "from sklearn.decomposition import PCA\n",
    "from sklearn.manifold import TSNE\n",
    "import seaborn as sns\n",
    "\n",
    "\n",
    "\n",
    "import sys\n",
    "sys.path.append('./py_files/feature_creator.py')\n",
    "sys.path.append('./py_files/featuring_functions.py')\n",
    "\n",
    "from py_files.feature_creator import get_feature, add_feature"
   ]
  },
  {
   "cell_type": "code",
   "execution_count": 104,
   "metadata": {},
   "outputs": [],
   "source": [
    "data = pd.read_csv('./data/train_file.csv')\n",
    "data = data.drop(columns='timestamp_milllisecs')"
   ]
  },
  {
   "cell_type": "code",
   "execution_count": 134,
   "metadata": {},
   "outputs": [],
   "source": [
    "train_size=0.8\n",
    "split_index = int(train_size*len(data))\n",
    "X = data.drop(columns=['label'])\n",
    "y = data['label']\n",
    "\n",
    "def get_diff(data, periods=1):\n",
    "    data_diff = data.diff(periods=periods).fillna(0)\n",
    "    data_diff.columns = [f'{i}_diff{periods}' for i in data.columns]\n",
    "    return data_diff\n",
    "\n",
    "def add_features_data(data,)\n",
    "\n",
    "def split_data(X, y):\n",
    "    x_train, y_train = X[:split_index], y[:split_index]\n",
    "    x_test, y_test = X[split_index:], y[split_index:]\n",
    "    return x_train, y_train, x_test, y_test \n",
    "\n",
    "\n",
    "x_train, y_train, x_test, y_test = split_data(X,y)\n",
    "x_train_new = pd.concat([x_train, get_diff(x_train), get_diff(x_train, periods=2)], axis=1)\n",
    "x_test_new = pd.concat([x_test, get_diff(x_test), get_diff(x_test, periods=2)], axis=1)\n",
    "\n",
    "\n",
    "# X.shape\n",
    "counts = np.unique(y_train, return_counts=True)\n",
    "class_weights = [int(max(counts[1])/i) for i in counts[1]]\n",
    "weight_dict = dict(zip(counts[0], class_weights))\n",
    "sample_weight = [weight_dict[i] for i in y_train]"
   ]
  },
  {
   "cell_type": "code",
   "execution_count": 137,
   "metadata": {},
   "outputs": [
    {
     "data": {
      "text/plain": [
       "(5799, 48)"
      ]
     },
     "execution_count": 137,
     "metadata": {},
     "output_type": "execute_result"
    }
   ],
   "source": [
    "x_train_new.shape"
   ]
  },
  {
   "cell_type": "code",
   "execution_count": 138,
   "metadata": {},
   "outputs": [
    {
     "name": "stdout",
     "output_type": "stream",
     "text": [
      "[01:52:51] WARNING: /home/conda/feedstock_root/build_artifacts/xgboost_1607604574104/work/src/learner.cc:1061: Starting in XGBoost 1.3.0, the default evaluation metric used with the objective 'multi:softprob' was changed from 'merror' to 'mlogloss'. Explicitly set eval_metric if you'd like to restore the old behavior.\n"
     ]
    },
    {
     "data": {
      "text/plain": [
       "XGBClassifier(base_score=0.5, booster='gbtree', colsample_bylevel=1,\n",
       "              colsample_bynode=1, colsample_bytree=1, gamma=0, gpu_id=-1,\n",
       "              importance_type='gain', interaction_constraints='',\n",
       "              learning_rate=0.300000012, max_delta_step=0, max_depth=6,\n",
       "              min_child_weight=1, missing=nan, monotone_constraints='()',\n",
       "              n_estimators=100, n_jobs=4, num_parallel_tree=1,\n",
       "              objective='multi:softprob', random_state=0, reg_alpha=0,\n",
       "              reg_lambda=1, scale_pos_weight=None, subsample=1,\n",
       "              tree_method='exact', validate_parameters=1, verbosity=None)"
      ]
     },
     "execution_count": 138,
     "metadata": {},
     "output_type": "execute_result"
    }
   ],
   "source": [
    "param_grid = {\n",
    "    'n_estimators' : [60,70,80],\n",
    "    'max_depth' : [1,2,3,4,5],\n",
    "#     'silent':[True]\n",
    "}\n",
    "\n",
    "# grid_model = GridSearchCV(\n",
    "#     estimator = XGBClassifier(),\n",
    "#     cv = 5,\n",
    "#     param_grid=param_grid,\n",
    "#     verbose=2\n",
    "# )\n",
    "# grid_model.fit(x_train, y_train)\n",
    "\n",
    "model = XGBClassifier()\n",
    "model.fit(x_train_new, y_train, sample_weight=sample_weight)"
   ]
  },
  {
   "cell_type": "code",
   "execution_count": 139,
   "metadata": {},
   "outputs": [
    {
     "name": "stdout",
     "output_type": "stream",
     "text": [
      "              precision    recall  f1-score   support\n",
      "\n",
      "           0       1.00      1.00      1.00      4351\n",
      "           1       1.00      1.00      1.00       294\n",
      "           2       1.00      1.00      1.00       294\n",
      "           3       1.00      1.00      1.00       294\n",
      "           4       1.00      1.00      1.00       286\n",
      "           5       1.00      1.00      1.00       280\n",
      "\n",
      "    accuracy                           1.00      5799\n",
      "   macro avg       1.00      1.00      1.00      5799\n",
      "weighted avg       1.00      1.00      1.00      5799\n",
      "\n",
      "              precision    recall  f1-score   support\n",
      "\n",
      "           0       0.97      0.98      0.98      1092\n",
      "           1       0.82      0.79      0.80        70\n",
      "           2       0.77      0.81      0.79        70\n",
      "           3       0.75      0.83      0.79        70\n",
      "           4       0.79      0.72      0.75        78\n",
      "           5       0.87      0.69      0.77        70\n",
      "\n",
      "    accuracy                           0.93      1450\n",
      "   macro avg       0.83      0.80      0.81      1450\n",
      "weighted avg       0.93      0.93      0.93      1450\n",
      "\n"
     ]
    },
    {
     "data": {
      "image/png": "[encoded data removed]",
      "text/plain": [
       "<Figure size 432x288 with 2 Axes>"
      ]
     },
     "metadata": {
      "needs_background": "light"
     },
     "output_type": "display_data"
    }
   ],
   "source": [
    "# print(grid_model.best_params_)\n",
    "# model = grid_model.best_estimator_\n",
    "# model = joblib.load('./models/xgb_raw_data.joblib')\n",
    "print(classification_report(y_train, model.predict(x_train_new)))\n",
    "print(classification_report(y_test, model.predict(x_test_new)))\n",
    "preds = model.predict(x_test_new)\n",
    "\n",
    "cm = confusion_matrix(preds, y_test)\n",
    "ax = plt.subplot()\n",
    "sns.heatmap(cm, annot=True, fmt='g', ax=ax);\n",
    "\n",
    "ax.set_xlabel('Predicted labels');ax.set_ylabel('True labels'); \n",
    "ax.set_title('Confusion Matrix'); "
   ]
  },
  {
   "cell_type": "code",
   "execution_count": 111,
   "metadata": {},
   "outputs": [
    {
     "data": {
      "text/plain": [
       "[<matplotlib.lines.Line2D at 0x7f18ac5b3a30>]"
      ]
     },
     "execution_count": 111,
     "metadata": {},
     "output_type": "execute_result"
    },
    {
     "data": {
      "image/png": "[encoded data removed]",
      "text/plain": [
       "<Figure size 1080x864 with 1 Axes>"
      ]
     },
     "metadata": {
      "needs_background": "light"
     },
     "output_type": "display_data"
    }
   ],
   "source": [
    "plt.figure(figsize=(15,12))\n",
    "T1 = 600\n",
    "T2 = 650\n",
    "range_array = range(T2-T1)\n",
    "plt.plot(range_array, preds[T1:T2])\n",
    "plt.plot(range_array, y_test[T1:T2])\n"
   ]
  },
  {
   "cell_type": "code",
   "execution_count": 83,
   "metadata": {},
   "outputs": [],
   "source": [
    "data = pd.read_csv('./data/train_file.csv')\n"
   ]
  },
  {
   "cell_type": "code",
   "execution_count": 91,
   "metadata": {},
   "outputs": [
    {
     "data": {
      "text/plain": [
       "count    7248.000000\n",
       "mean       72.132036\n",
       "std        10.308935\n",
       "min         0.000000\n",
       "25%        68.000000\n",
       "50%        70.000000\n",
       "75%        74.000000\n",
       "max       122.000000\n",
       "Name: timestamp_milllisecs, dtype: float64"
      ]
     },
     "execution_count": 91,
     "metadata": {},
     "output_type": "execute_result"
    }
   ],
   "source": [
    "data.timestamp_milllisecs.diff().describe()"
   ]
  },
  {
   "cell_type": "code",
   "execution_count": 93,
   "metadata": {},
   "outputs": [
    {
     "data": {
      "text/plain": [
       "13.88888888888889"
      ]
     },
     "execution_count": 93,
     "metadata": {},
     "output_type": "execute_result"
    }
   ],
   "source": [
    "1000/72"
   ]
  },
  {
   "cell_type": "code",
   "execution_count": null,
   "metadata": {},
   "outputs": [],
   "source": []
  }
 ],
 "metadata": {
  "kernelspec": {
   "display_name": "Python 3",
   "language": "python",
   "name": "python3"
  },
  "language_info": {
   "codemirror_mode": {
    "name": "ipython",
    "version": 3
   },
   "file_extension": ".py",
   "mimetype": "text/x-python",
   "name": "python",
   "nbconvert_exporter": "python",
   "pygments_lexer": "ipython3",
   "version": "3.8.3"
  }
 },
 "nbformat": 4,
 "nbformat_minor": 4
}

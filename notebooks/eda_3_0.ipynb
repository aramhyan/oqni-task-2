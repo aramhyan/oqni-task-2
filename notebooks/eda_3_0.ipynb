{
 "cells": [
  {
   "cell_type": "code",
   "execution_count": 55,
   "id": "a9689a99",
   "metadata": {},
   "outputs": [],
   "source": [
    "import pandas as pd\n",
    "import numpy as np\n",
    "import matplotlib.pyplot as plt\n",
    "import sklearn\n",
    "from sklearn.preprocessing import StandardScaler, MinMaxScaler\n",
    "from sklearn.metrics import classification_report, confusion_matrix\n",
    "from xgboost import XGBClassifier\n",
    "from sklearn.model_selection import GridSearchCV\n",
    "import joblib\n",
    "from sklearn.decomposition import PCA\n",
    "from sklearn.manifold import TSNE\n",
    "import seaborn as sns\n",
    "\n",
    "import sys\n",
    "sys.path.append('../py_files/')\n",
    "from feature_creator import get_feature, add_feature"
   ]
  },
  {
   "cell_type": "code",
   "execution_count": 56,
   "id": "4032d918",
   "metadata": {},
   "outputs": [],
   "source": [
    "data = pd.read_csv('../data/train_file.csv')\n",
    "data = data.drop(columns=['timestamp_milllisecs'])"
   ]
  },
  {
   "cell_type": "code",
   "execution_count": 78,
   "id": "9aa39bae",
   "metadata": {},
   "outputs": [
    {
     "name": "stdout",
     "output_type": "stream",
     "text": [
      "columns left: 75\n"
     ]
    }
   ],
   "source": [
    "train_size=0.8\n",
    "split_index = int(train_size*len(data))\n",
    "X = data.drop(columns=['label'])\n",
    "y = data['label']\n",
    "\n",
    "def get_diff(data, periods=1):\n",
    "    data_diff = data.diff(periods=periods).fillna(0)\n",
    "    data_diff.columns = [f'{i}_diff_{periods}' for i in data.columns]\n",
    "    return data_diff\n",
    "\n",
    "def add_features_data(data, data_feature, ws=5):\n",
    "    for new_feature in ['iemg', 'ssi']:\n",
    "        new_feature_name = f'{data_feature}_{new_feature}_{ws}'\n",
    "        new_feature_array = get_feature(\n",
    "            data[data_feature], ws, new_feature\n",
    "        )\n",
    "        data[new_feature_name] = new_feature_array\n",
    "    return data\n",
    "\n",
    "def split_data(X, y):\n",
    "    x_train, y_train = X[:split_index], y[:split_index]\n",
    "    x_test, y_test = X[split_index:], y[split_index:]\n",
    "    return x_train, y_train, x_test, y_test \n",
    "\n",
    "def feature_engineering(data):\n",
    "    data_new = pd.concat([data, get_diff(data), get_diff(data, periods=2)], axis=1)\n",
    "    for column_name in data_new.columns:\n",
    "        data_new = add_features_data(data_new, column_name)\n",
    "#     data_new = data_new.drop(columns=['timestamp_milllisecs'])\n",
    "    return data_new\n",
    "\n",
    "def dim_reduction(x_train,x_test):\n",
    "    clf = PCA(n_components=75)\n",
    "    clf.fit(x_train)\n",
    "    x_train = clf.transform(x_train)\n",
    "    x_test = clf.transform(x_test)\n",
    "    print('columns left:', x_train.shape[1])\n",
    "    return x_train, x_test\n",
    "\n",
    "\n",
    "x_train, y_train, x_test, y_test = split_data(X,y)\n",
    "x_train_new = feature_engineering(x_train)\n",
    "x_test_new = feature_engineering(x_test)\n",
    "\n",
    "# X.shape\n",
    "counts = np.unique(y_train, return_counts=True)\n",
    "class_weights = [int(max(counts[1])/i) for i in counts[1]]\n",
    "weight_dict = dict(zip(counts[0], class_weights))\n",
    "sample_weight = [weight_dict[i] for i in y_train]\n",
    "\n",
    "x_train_new, x_test_new = dim_reduction(x_train_new, x_test_new)\n",
    "    \n",
    "    "
   ]
  },
  {
   "cell_type": "code",
   "execution_count": 79,
   "id": "962fd3cf",
   "metadata": {},
   "outputs": [
    {
     "name": "stderr",
     "output_type": "stream",
     "text": [
      "C:\\Users\\Dell\\anaconda3\\lib\\site-packages\\xgboost\\sklearn.py:1146: UserWarning: The use of label encoder in XGBClassifier is deprecated and will be removed in a future release. To remove this warning, do the following: 1) Pass option use_label_encoder=False when constructing XGBClassifier object; and 2) Encode your labels (y) as integers starting with 0, i.e. 0, 1, 2, ..., [num_class - 1].\n",
      "  warnings.warn(label_encoder_deprecation_msg, UserWarning)\n"
     ]
    },
    {
     "name": "stdout",
     "output_type": "stream",
     "text": [
      "[19:56:40] WARNING: C:/Users/Administrator/workspace/xgboost-win64_release_1.4.0/src/learner.cc:1095: Starting in XGBoost 1.3.0, the default evaluation metric used with the objective 'multi:softprob' was changed from 'merror' to 'mlogloss'. Explicitly set eval_metric if you'd like to restore the old behavior.\n",
      "              precision    recall  f1-score   support\n",
      "\n",
      "           0       1.00      1.00      1.00      4351\n",
      "           1       1.00      1.00      1.00       294\n",
      "           2       1.00      1.00      1.00       294\n",
      "           3       1.00      1.00      1.00       294\n",
      "           4       1.00      1.00      1.00       286\n",
      "           5       1.00      1.00      1.00       280\n",
      "\n",
      "    accuracy                           1.00      5799\n",
      "   macro avg       1.00      1.00      1.00      5799\n",
      "weighted avg       1.00      1.00      1.00      5799\n",
      "\n",
      "              precision    recall  f1-score   support\n",
      "\n",
      "           0       0.95      0.97      0.96      1092\n",
      "           1       0.74      0.80      0.77        70\n",
      "           2       0.77      0.81      0.79        70\n",
      "           3       0.83      0.77      0.80        70\n",
      "           4       0.83      0.73      0.78        78\n",
      "           5       0.86      0.63      0.73        70\n",
      "\n",
      "    accuracy                           0.92      1450\n",
      "   macro avg       0.83      0.79      0.80      1450\n",
      "weighted avg       0.92      0.92      0.92      1450\n",
      "\n"
     ]
    },
    {
     "data": {
      "image/png": "[encoded data removed]",
      "text/plain": [
       "<Figure size 432x288 with 2 Axes>"
      ]
     },
     "metadata": {
      "needs_background": "light"
     },
     "output_type": "display_data"
    }
   ],
   "source": [
    "model = XGBClassifier()\n",
    "model.fit(x_train_new, y_train, sample_weight=sample_weight)\n",
    "print(classification_report(y_train, model.predict(x_train_new)))\n",
    "print(classification_report(y_test, model.predict(x_test_new)))\n",
    "preds = model.predict(x_test_new)\n",
    "\n",
    "cm = confusion_matrix(preds, y_test)\n",
    "cm = sklearn.preprocessing.normalize(cm)\n",
    "cm = np.round(cm, decimals=3)\n",
    "ax = plt.subplot()\n",
    "sns.heatmap(cm, annot=True, fmt='g', ax=ax);\n",
    "\n",
    "ax.set_xlabel('Predicted labels');ax.set_ylabel('True labels'); \n",
    "ax.set_title('Confusion Matrix'); "
   ]
  },
  {
   "cell_type": "code",
   "execution_count": null,
   "id": "2a751afb",
   "metadata": {},
   "outputs": [],
   "source": []
  },
  {
   "cell_type": "code",
   "execution_count": null,
   "id": "02a8f2e8",
   "metadata": {},
   "outputs": [],
   "source": []
  },
  {
   "cell_type": "code",
   "execution_count": null,
   "id": "8cd4d776",
   "metadata": {},
   "outputs": [],
   "source": []
  },
  {
   "cell_type": "code",
   "execution_count": null,
   "id": "24b42c56",
   "metadata": {},
   "outputs": [],
   "source": []
  },
  {
   "cell_type": "code",
   "execution_count": 71,
   "id": "b3c29f86",
   "metadata": {},
   "outputs": [
    {
     "data": {
      "text/plain": [
       "['ch11_diff_2_ssi_5',\n",
       " 'ch2_diff_2_ssi_5',\n",
       " 'ch4_iemg_5',\n",
       " 'ch6',\n",
       " 'ch3',\n",
       " 'ch12',\n",
       " 'ch1_diff_2_ssi_5',\n",
       " 'ch7_diff_2_ssi_5',\n",
       " 'ch9_iemg_5',\n",
       " 'ch4_diff_1_iemg_5',\n",
       " 'ch14_iemg_5',\n",
       " 'ch4',\n",
       " 'ch8',\n",
       " 'ch4_diff_2_ssi_5',\n",
       " 'ch2_diff_2_iemg_5',\n",
       " 'ch6_diff_2',\n",
       " 'ch9',\n",
       " 'ch4_diff_2',\n",
       " 'ch5',\n",
       " 'ch5_diff_2_iemg_5',\n",
       " 'ch1_diff_2',\n",
       " 'ch6_diff_2_ssi_5',\n",
       " 'ch13_diff_2',\n",
       " 'ch16',\n",
       " 'ch10_diff_2_iemg_5',\n",
       " 'ch16_diff_1',\n",
       " 'ch8_diff_2_ssi_5',\n",
       " 'ch2_ssi_5',\n",
       " 'ch6_ssi_5',\n",
       " 'ch5_iemg_5',\n",
       " 'ch2',\n",
       " 'ch10_diff_1_iemg_5',\n",
       " 'ch1_diff_1',\n",
       " 'ch3_ssi_5',\n",
       " 'ch1_ssi_5',\n",
       " 'ch12_iemg_5',\n",
       " 'ch11_diff_2',\n",
       " 'ch1',\n",
       " 'ch1_diff_1_ssi_5',\n",
       " 'ch2_diff_1_ssi_5',\n",
       " 'ch14_diff_1_ssi_5',\n",
       " 'ch6_diff_2_iemg_5',\n",
       " 'ch9_diff_1_ssi_5',\n",
       " 'ch3_diff_2',\n",
       " 'ch1_iemg_5',\n",
       " 'ch13_diff_2_ssi_5',\n",
       " 'ch10',\n",
       " 'ch4_diff_1_ssi_5',\n",
       " 'ch14_diff_2',\n",
       " 'ch7_diff_1',\n",
       " 'ch2_diff_1_iemg_5',\n",
       " 'ch11_diff_1_ssi_5',\n",
       " 'ch13_diff_2_iemg_5',\n",
       " 'ch16_diff_2_iemg_5',\n",
       " 'ch10_diff_1_ssi_5',\n",
       " 'ch5_diff_1_iemg_5',\n",
       " 'ch14_ssi_5',\n",
       " 'ch9_diff_1',\n",
       " 'ch10_diff_1',\n",
       " 'ch9_diff_2_iemg_5',\n",
       " 'ch7',\n",
       " 'ch14',\n",
       " 'ch6_iemg_5',\n",
       " 'ch13_diff_1',\n",
       " 'ch11_diff_2_iemg_5',\n",
       " 'ch2_diff_2',\n",
       " 'ch11',\n",
       " 'ch8_diff_1',\n",
       " 'ch12_diff_2',\n",
       " 'ch4_diff_1',\n",
       " 'ch12_diff_1',\n",
       " 'ch12_diff_1_ssi_5',\n",
       " 'ch12_diff_1_iemg_5',\n",
       " 'ch14_diff_2_iemg_5',\n",
       " 'ch8_diff_1_iemg_5',\n",
       " 'ch3_diff_2_iemg_5',\n",
       " 'ch1_diff_2_iemg_5',\n",
       " 'ch13_diff_1_ssi_5',\n",
       " 'ch13',\n",
       " 'ch9_diff_2_ssi_5',\n",
       " 'ch15_iemg_5',\n",
       " 'ch7_diff_2_iemg_5',\n",
       " 'ch2_diff_1',\n",
       " 'ch16_diff_1_ssi_5',\n",
       " 'ch6_diff_1_ssi_5',\n",
       " 'ch4_ssi_5',\n",
       " 'ch10_iemg_5',\n",
       " 'ch15_diff_2_ssi_5',\n",
       " 'ch3_diff_1_ssi_5',\n",
       " 'ch5_ssi_5',\n",
       " 'ch11_diff_1',\n",
       " 'ch5_diff_1_ssi_5',\n",
       " 'ch10_diff_2_ssi_5',\n",
       " 'ch8_iemg_5',\n",
       " 'ch13_ssi_5',\n",
       " 'ch15_diff_2',\n",
       " 'ch11_iemg_5',\n",
       " 'ch7_iemg_5',\n",
       " 'ch6_diff_1',\n",
       " 'ch14_diff_1_iemg_5',\n",
       " 'ch3_iemg_5',\n",
       " 'ch8_diff_1_ssi_5',\n",
       " 'ch6_diff_1_iemg_5',\n",
       " 'ch7_diff_1_ssi_5',\n",
       " 'ch2_iemg_5',\n",
       " 'ch9_diff_2',\n",
       " 'ch12_diff_2_ssi_5',\n",
       " 'ch10_ssi_5',\n",
       " 'ch7_ssi_5',\n",
       " 'ch16_diff_2_ssi_5',\n",
       " 'ch9_diff_1_iemg_5',\n",
       " 'ch13_diff_1_iemg_5',\n",
       " 'ch8_diff_2_iemg_5',\n",
       " 'ch15',\n",
       " 'ch7_diff_2',\n",
       " 'ch15_diff_2_iemg_5',\n",
       " 'ch13_iemg_5',\n",
       " 'ch3_diff_2_ssi_5',\n",
       " 'ch11_ssi_5',\n",
       " 'ch15_diff_1_ssi_5',\n",
       " 'ch10_diff_2',\n",
       " 'ch3_diff_1_iemg_5',\n",
       " 'ch16_diff_1_iemg_5',\n",
       " 'ch16_iemg_5',\n",
       " 'ch8_diff_2',\n",
       " 'ch14_diff_1',\n",
       " 'ch8_ssi_5',\n",
       " 'ch15_diff_1_iemg_5',\n",
       " 'ch7_diff_1_iemg_5',\n",
       " 'ch15_ssi_5',\n",
       " 'ch14_diff_2_ssi_5',\n",
       " 'ch1_diff_1_iemg_5',\n",
       " 'ch11_diff_1_iemg_5',\n",
       " 'ch4_diff_2_iemg_5',\n",
       " 'ch5_diff_1',\n",
       " 'ch16_diff_2',\n",
       " 'ch16_ssi_5',\n",
       " 'ch12_ssi_5',\n",
       " 'ch9_ssi_5',\n",
       " 'ch5_diff_2',\n",
       " 'ch3_diff_1',\n",
       " 'ch5_diff_2_ssi_5',\n",
       " 'ch12_diff_2_iemg_5',\n",
       " 'ch15_diff_1']"
      ]
     },
     "execution_count": 71,
     "metadata": {},
     "output_type": "execute_result"
    }
   ],
   "source": [
    "feature_important = model.get_booster().get_score(importance_type='weight')\n",
    "keys = list(feature_important.keys())\n",
    "values = list(feature_important.values())\n",
    "keys"
   ]
  },
  {
   "cell_type": "code",
   "execution_count": 72,
   "id": "bf2097b2",
   "metadata": {},
   "outputs": [
    {
     "data": {
      "text/plain": [
       "144"
      ]
     },
     "execution_count": 72,
     "metadata": {},
     "output_type": "execute_result"
    }
   ],
   "source": [
    "len(keys)"
   ]
  },
  {
   "cell_type": "code",
   "execution_count": null,
   "id": "bc6b30ac",
   "metadata": {},
   "outputs": [],
   "source": []
  }
 ],
 "metadata": {
  "kernelspec": {
   "display_name": "Python 3",
   "language": "python",
   "name": "python3"
  },
  "language_info": {
   "codemirror_mode": {
    "name": "ipython",
    "version": 3
   },
   "file_extension": ".py",
   "mimetype": "text/x-python",
   "name": "python",
   "nbconvert_exporter": "python",
   "pygments_lexer": "ipython3",
   "version": "3.8.8"
  }
 },
 "nbformat": 4,
 "nbformat_minor": 5
}

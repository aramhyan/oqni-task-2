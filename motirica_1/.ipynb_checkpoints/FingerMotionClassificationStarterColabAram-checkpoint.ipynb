{
 "cells": [
  {
   "cell_type": "markdown",
   "metadata": {
    "id": "paH5o9-OgAcl"
   },
   "source": [
    "# Finger motion classification starter colab\n",
    "Make sure to upload train_file.csv and test_file.csv."
   ]
  },
  {
   "cell_type": "code",
   "execution_count": 4,
   "metadata": {
    "executionInfo": {
     "elapsed": 244,
     "status": "ok",
     "timestamp": 1632159268960,
     "user": {
      "displayName": "Vahe Tshitoyan",
      "photoUrl": "https://lh3.googleusercontent.com/a/default-user=s64",
      "userId": "00047163600631758975"
     },
     "user_tz": 420
    },
    "id": "t_LJuS7wf8a5"
   },
   "outputs": [],
   "source": [
    "# Note 1: It is a good practice to import libraries in alphabetical order.\n",
    "# Note 2: It is a good practice to separate imports into blocks, where standard\n",
    "#         libraries go first, any third party libraries go next, and your own \n",
    "#         libraries go last.\n",
    "# Tip: I would recommend checking out Google Python style guide: \n",
    "#      https://google.github.io/styleguide/pyguide.html\n",
    "import pandas as pd\n",
    "import matplotlib.pyplot as plt\n",
    "import numpy as np\n",
    "import seaborn as sns\n",
    "# import plotly.express as px\n",
    "\n",
    "\n",
    "from sklearn import metrics\n",
    "from sklearn.metrics import confusion_matrix, multilabel_confusion_matrix, plot_confusion_matrix\n",
    "from sklearn import tree\n",
    "from sklearn.model_selection import train_test_split, cross_val_predict, cross_val_score\n",
    "from sklearn.metrics import mean_squared_error\n",
    "from sklearn.metrics import classification_report\n",
    "from sklearn.metrics import precision_recall_curve\n",
    "from sklearn.metrics import accuracy_score\n",
    "from sklearn.preprocessing import StandardScaler\n",
    "from sklearn.ensemble import RandomForestClassifier\n",
    "from sklearn.tree import DecisionTreeClassifier"
   ]
  },
  {
   "cell_type": "markdown",
   "metadata": {
    "id": "2jak1aQahfcq"
   },
   "source": [
    "The train data has labels."
   ]
  },
  {
   "cell_type": "code",
   "execution_count": 5,
   "metadata": {
    "colab": {
     "base_uri": "https://localhost:8080/",
     "height": 421
    },
    "executionInfo": {
     "elapsed": 222,
     "status": "ok",
     "timestamp": 1632159287795,
     "user": {
      "displayName": "Vahe Tshitoyan",
      "photoUrl": "https://lh3.googleusercontent.com/a/default-user=s64",
      "userId": "00047163600631758975"
     },
     "user_tz": 420
    },
    "id": "4_fi39P9gptK",
    "outputId": "fb0491fc-8ea9-45eb-e012-ecaae92467fa"
   },
   "outputs": [
    {
     "data": {
      "text/html": [
       "<div>\n",
       "<style scoped>\n",
       "    .dataframe tbody tr th:only-of-type {\n",
       "        vertical-align: middle;\n",
       "    }\n",
       "\n",
       "    .dataframe tbody tr th {\n",
       "        vertical-align: top;\n",
       "    }\n",
       "\n",
       "    .dataframe thead th {\n",
       "        text-align: right;\n",
       "    }\n",
       "</style>\n",
       "<table border=\"1\" class=\"dataframe\">\n",
       "  <thead>\n",
       "    <tr style=\"text-align: right;\">\n",
       "      <th></th>\n",
       "      <th>timestamp_milllisecs</th>\n",
       "      <th>ch1</th>\n",
       "      <th>ch2</th>\n",
       "      <th>ch3</th>\n",
       "      <th>ch4</th>\n",
       "      <th>ch5</th>\n",
       "      <th>ch6</th>\n",
       "      <th>ch7</th>\n",
       "      <th>ch8</th>\n",
       "      <th>ch9</th>\n",
       "      <th>ch10</th>\n",
       "      <th>ch11</th>\n",
       "      <th>ch12</th>\n",
       "      <th>ch13</th>\n",
       "      <th>ch14</th>\n",
       "      <th>ch15</th>\n",
       "      <th>ch16</th>\n",
       "      <th>label</th>\n",
       "    </tr>\n",
       "  </thead>\n",
       "  <tbody>\n",
       "    <tr>\n",
       "      <th>0</th>\n",
       "      <td>1632164365133</td>\n",
       "      <td>276</td>\n",
       "      <td>270</td>\n",
       "      <td>345</td>\n",
       "      <td>645</td>\n",
       "      <td>426</td>\n",
       "      <td>626</td>\n",
       "      <td>256</td>\n",
       "      <td>426</td>\n",
       "      <td>285</td>\n",
       "      <td>295</td>\n",
       "      <td>471</td>\n",
       "      <td>641</td>\n",
       "      <td>306</td>\n",
       "      <td>611</td>\n",
       "      <td>353</td>\n",
       "      <td>497</td>\n",
       "      <td>0</td>\n",
       "    </tr>\n",
       "    <tr>\n",
       "      <th>1</th>\n",
       "      <td>1632164365203</td>\n",
       "      <td>269</td>\n",
       "      <td>269</td>\n",
       "      <td>352</td>\n",
       "      <td>645</td>\n",
       "      <td>426</td>\n",
       "      <td>626</td>\n",
       "      <td>252</td>\n",
       "      <td>427</td>\n",
       "      <td>290</td>\n",
       "      <td>289</td>\n",
       "      <td>476</td>\n",
       "      <td>640</td>\n",
       "      <td>307</td>\n",
       "      <td>614</td>\n",
       "      <td>352</td>\n",
       "      <td>493</td>\n",
       "      <td>0</td>\n",
       "    </tr>\n",
       "    <tr>\n",
       "      <th>2</th>\n",
       "      <td>1632164365271</td>\n",
       "      <td>266</td>\n",
       "      <td>271</td>\n",
       "      <td>345</td>\n",
       "      <td>644</td>\n",
       "      <td>432</td>\n",
       "      <td>624</td>\n",
       "      <td>252</td>\n",
       "      <td>430</td>\n",
       "      <td>293</td>\n",
       "      <td>289</td>\n",
       "      <td>478</td>\n",
       "      <td>639</td>\n",
       "      <td>307</td>\n",
       "      <td>615</td>\n",
       "      <td>349</td>\n",
       "      <td>497</td>\n",
       "      <td>0</td>\n",
       "    </tr>\n",
       "    <tr>\n",
       "      <th>3</th>\n",
       "      <td>1632164365342</td>\n",
       "      <td>268</td>\n",
       "      <td>271</td>\n",
       "      <td>336</td>\n",
       "      <td>645</td>\n",
       "      <td>430</td>\n",
       "      <td>621</td>\n",
       "      <td>256</td>\n",
       "      <td>427</td>\n",
       "      <td>294</td>\n",
       "      <td>293</td>\n",
       "      <td>479</td>\n",
       "      <td>638</td>\n",
       "      <td>306</td>\n",
       "      <td>609</td>\n",
       "      <td>351</td>\n",
       "      <td>499</td>\n",
       "      <td>0</td>\n",
       "    </tr>\n",
       "    <tr>\n",
       "      <th>4</th>\n",
       "      <td>1632164365411</td>\n",
       "      <td>273</td>\n",
       "      <td>268</td>\n",
       "      <td>337</td>\n",
       "      <td>645</td>\n",
       "      <td>420</td>\n",
       "      <td>622</td>\n",
       "      <td>260</td>\n",
       "      <td>423</td>\n",
       "      <td>295</td>\n",
       "      <td>292</td>\n",
       "      <td>480</td>\n",
       "      <td>640</td>\n",
       "      <td>306</td>\n",
       "      <td>606</td>\n",
       "      <td>353</td>\n",
       "      <td>495</td>\n",
       "      <td>0</td>\n",
       "    </tr>\n",
       "    <tr>\n",
       "      <th>...</th>\n",
       "      <td>...</td>\n",
       "      <td>...</td>\n",
       "      <td>...</td>\n",
       "      <td>...</td>\n",
       "      <td>...</td>\n",
       "      <td>...</td>\n",
       "      <td>...</td>\n",
       "      <td>...</td>\n",
       "      <td>...</td>\n",
       "      <td>...</td>\n",
       "      <td>...</td>\n",
       "      <td>...</td>\n",
       "      <td>...</td>\n",
       "      <td>...</td>\n",
       "      <td>...</td>\n",
       "      <td>...</td>\n",
       "      <td>...</td>\n",
       "      <td>...</td>\n",
       "    </tr>\n",
       "    <tr>\n",
       "      <th>7244</th>\n",
       "      <td>1632164887663</td>\n",
       "      <td>292</td>\n",
       "      <td>254</td>\n",
       "      <td>359</td>\n",
       "      <td>638</td>\n",
       "      <td>410</td>\n",
       "      <td>582</td>\n",
       "      <td>265</td>\n",
       "      <td>389</td>\n",
       "      <td>277</td>\n",
       "      <td>258</td>\n",
       "      <td>478</td>\n",
       "      <td>632</td>\n",
       "      <td>317</td>\n",
       "      <td>572</td>\n",
       "      <td>366</td>\n",
       "      <td>496</td>\n",
       "      <td>0</td>\n",
       "    </tr>\n",
       "    <tr>\n",
       "      <th>7245</th>\n",
       "      <td>1632164887735</td>\n",
       "      <td>288</td>\n",
       "      <td>254</td>\n",
       "      <td>368</td>\n",
       "      <td>638</td>\n",
       "      <td>412</td>\n",
       "      <td>586</td>\n",
       "      <td>261</td>\n",
       "      <td>391</td>\n",
       "      <td>277</td>\n",
       "      <td>253</td>\n",
       "      <td>478</td>\n",
       "      <td>632</td>\n",
       "      <td>316</td>\n",
       "      <td>576</td>\n",
       "      <td>365</td>\n",
       "      <td>494</td>\n",
       "      <td>0</td>\n",
       "    </tr>\n",
       "    <tr>\n",
       "      <th>7246</th>\n",
       "      <td>1632164887807</td>\n",
       "      <td>283</td>\n",
       "      <td>256</td>\n",
       "      <td>365</td>\n",
       "      <td>638</td>\n",
       "      <td>420</td>\n",
       "      <td>584</td>\n",
       "      <td>260</td>\n",
       "      <td>395</td>\n",
       "      <td>276</td>\n",
       "      <td>254</td>\n",
       "      <td>478</td>\n",
       "      <td>629</td>\n",
       "      <td>317</td>\n",
       "      <td>580</td>\n",
       "      <td>363</td>\n",
       "      <td>497</td>\n",
       "      <td>0</td>\n",
       "    </tr>\n",
       "    <tr>\n",
       "      <th>7247</th>\n",
       "      <td>1632164887877</td>\n",
       "      <td>285</td>\n",
       "      <td>257</td>\n",
       "      <td>356</td>\n",
       "      <td>637</td>\n",
       "      <td>424</td>\n",
       "      <td>580</td>\n",
       "      <td>263</td>\n",
       "      <td>395</td>\n",
       "      <td>275</td>\n",
       "      <td>258</td>\n",
       "      <td>478</td>\n",
       "      <td>628</td>\n",
       "      <td>317</td>\n",
       "      <td>576</td>\n",
       "      <td>363</td>\n",
       "      <td>500</td>\n",
       "      <td>0</td>\n",
       "    </tr>\n",
       "    <tr>\n",
       "      <th>7248</th>\n",
       "      <td>1632164887946</td>\n",
       "      <td>291</td>\n",
       "      <td>256</td>\n",
       "      <td>355</td>\n",
       "      <td>639</td>\n",
       "      <td>416</td>\n",
       "      <td>581</td>\n",
       "      <td>267</td>\n",
       "      <td>391</td>\n",
       "      <td>277</td>\n",
       "      <td>260</td>\n",
       "      <td>478</td>\n",
       "      <td>630</td>\n",
       "      <td>317</td>\n",
       "      <td>572</td>\n",
       "      <td>365</td>\n",
       "      <td>499</td>\n",
       "      <td>0</td>\n",
       "    </tr>\n",
       "  </tbody>\n",
       "</table>\n",
       "<p>7249 rows × 18 columns</p>\n",
       "</div>"
      ],
      "text/plain": [
       "      timestamp_milllisecs  ch1  ch2  ch3  ch4  ch5  ch6  ch7  ch8  ch9  ch10  \\\n",
       "0            1632164365133  276  270  345  645  426  626  256  426  285   295   \n",
       "1            1632164365203  269  269  352  645  426  626  252  427  290   289   \n",
       "2            1632164365271  266  271  345  644  432  624  252  430  293   289   \n",
       "3            1632164365342  268  271  336  645  430  621  256  427  294   293   \n",
       "4            1632164365411  273  268  337  645  420  622  260  423  295   292   \n",
       "...                    ...  ...  ...  ...  ...  ...  ...  ...  ...  ...   ...   \n",
       "7244         1632164887663  292  254  359  638  410  582  265  389  277   258   \n",
       "7245         1632164887735  288  254  368  638  412  586  261  391  277   253   \n",
       "7246         1632164887807  283  256  365  638  420  584  260  395  276   254   \n",
       "7247         1632164887877  285  257  356  637  424  580  263  395  275   258   \n",
       "7248         1632164887946  291  256  355  639  416  581  267  391  277   260   \n",
       "\n",
       "      ch11  ch12  ch13  ch14  ch15  ch16  label  \n",
       "0      471   641   306   611   353   497      0  \n",
       "1      476   640   307   614   352   493      0  \n",
       "2      478   639   307   615   349   497      0  \n",
       "3      479   638   306   609   351   499      0  \n",
       "4      480   640   306   606   353   495      0  \n",
       "...    ...   ...   ...   ...   ...   ...    ...  \n",
       "7244   478   632   317   572   366   496      0  \n",
       "7245   478   632   316   576   365   494      0  \n",
       "7246   478   629   317   580   363   497      0  \n",
       "7247   478   628   317   576   363   500      0  \n",
       "7248   478   630   317   572   365   499      0  \n",
       "\n",
       "[7249 rows x 18 columns]"
      ]
     },
     "execution_count": 5,
     "metadata": {},
     "output_type": "execute_result"
    }
   ],
   "source": [
    "df = pd.read_csv('train_file.csv', sep=',')\n",
    "df"
   ]
  },
  {
   "cell_type": "markdown",
   "metadata": {
    "id": "kGo0uYtIhcby"
   },
   "source": [
    "The test dataframe does not have the labels. Develop an algorithm that will predict those labels."
   ]
  },
  {
   "cell_type": "code",
   "execution_count": null,
   "metadata": {},
   "outputs": [],
   "source": []
  },
  {
   "cell_type": "markdown",
   "metadata": {
    "id": "v0ofIzl7g_oq"
   },
   "source": [
    "\n",
    "## Understanding and Cleaning Data"
   ]
  },
  {
   "cell_type": "code",
   "execution_count": 6,
   "metadata": {},
   "outputs": [
    {
     "name": "stdout",
     "output_type": "stream",
     "text": [
      "<class 'pandas.core.frame.DataFrame'>\n",
      "RangeIndex: 7249 entries, 0 to 7248\n",
      "Data columns (total 18 columns):\n",
      " #   Column                Non-Null Count  Dtype\n",
      "---  ------                --------------  -----\n",
      " 0   timestamp_milllisecs  7249 non-null   int64\n",
      " 1   ch1                   7249 non-null   int64\n",
      " 2   ch2                   7249 non-null   int64\n",
      " 3   ch3                   7249 non-null   int64\n",
      " 4   ch4                   7249 non-null   int64\n",
      " 5   ch5                   7249 non-null   int64\n",
      " 6   ch6                   7249 non-null   int64\n",
      " 7   ch7                   7249 non-null   int64\n",
      " 8   ch8                   7249 non-null   int64\n",
      " 9   ch9                   7249 non-null   int64\n",
      " 10  ch10                  7249 non-null   int64\n",
      " 11  ch11                  7249 non-null   int64\n",
      " 12  ch12                  7249 non-null   int64\n",
      " 13  ch13                  7249 non-null   int64\n",
      " 14  ch14                  7249 non-null   int64\n",
      " 15  ch15                  7249 non-null   int64\n",
      " 16  ch16                  7249 non-null   int64\n",
      " 17  label                 7249 non-null   int64\n",
      "dtypes: int64(18)\n",
      "memory usage: 1019.5 KB\n"
     ]
    }
   ],
   "source": [
    "df.info()"
   ]
  },
  {
   "cell_type": "code",
   "execution_count": 7,
   "metadata": {},
   "outputs": [
    {
     "data": {
      "text/html": [
       "<div>\n",
       "<style scoped>\n",
       "    .dataframe tbody tr th:only-of-type {\n",
       "        vertical-align: middle;\n",
       "    }\n",
       "\n",
       "    .dataframe tbody tr th {\n",
       "        vertical-align: top;\n",
       "    }\n",
       "\n",
       "    .dataframe thead th {\n",
       "        text-align: right;\n",
       "    }\n",
       "</style>\n",
       "<table border=\"1\" class=\"dataframe\">\n",
       "  <thead>\n",
       "    <tr style=\"text-align: right;\">\n",
       "      <th></th>\n",
       "      <th>timestamp_milllisecs</th>\n",
       "      <th>ch1</th>\n",
       "      <th>ch2</th>\n",
       "      <th>ch3</th>\n",
       "      <th>ch4</th>\n",
       "      <th>ch5</th>\n",
       "      <th>ch6</th>\n",
       "      <th>ch7</th>\n",
       "      <th>ch8</th>\n",
       "      <th>ch9</th>\n",
       "      <th>ch10</th>\n",
       "      <th>ch11</th>\n",
       "      <th>ch12</th>\n",
       "      <th>ch13</th>\n",
       "      <th>ch14</th>\n",
       "      <th>ch15</th>\n",
       "      <th>ch16</th>\n",
       "      <th>label</th>\n",
       "    </tr>\n",
       "  </thead>\n",
       "  <tbody>\n",
       "    <tr>\n",
       "      <th>count</th>\n",
       "      <td>7.249000e+03</td>\n",
       "      <td>7249.000000</td>\n",
       "      <td>7249.000000</td>\n",
       "      <td>7249.000000</td>\n",
       "      <td>7249.000000</td>\n",
       "      <td>7249.000000</td>\n",
       "      <td>7249.000000</td>\n",
       "      <td>7249.000000</td>\n",
       "      <td>7249.000000</td>\n",
       "      <td>7249.000000</td>\n",
       "      <td>7249.000000</td>\n",
       "      <td>7249.000000</td>\n",
       "      <td>7249.000000</td>\n",
       "      <td>7249.000000</td>\n",
       "      <td>7249.000000</td>\n",
       "      <td>7249.000000</td>\n",
       "      <td>7249.000000</td>\n",
       "      <td>7249.000000</td>\n",
       "    </tr>\n",
       "    <tr>\n",
       "      <th>mean</th>\n",
       "      <td>1.632165e+12</td>\n",
       "      <td>282.787143</td>\n",
       "      <td>263.237964</td>\n",
       "      <td>359.354670</td>\n",
       "      <td>639.626569</td>\n",
       "      <td>440.305146</td>\n",
       "      <td>592.526693</td>\n",
       "      <td>275.211339</td>\n",
       "      <td>401.908539</td>\n",
       "      <td>286.369568</td>\n",
       "      <td>266.106773</td>\n",
       "      <td>466.631811</td>\n",
       "      <td>633.424472</td>\n",
       "      <td>309.143744</td>\n",
       "      <td>584.574838</td>\n",
       "      <td>358.186371</td>\n",
       "      <td>500.169265</td>\n",
       "      <td>0.743551</td>\n",
       "    </tr>\n",
       "    <tr>\n",
       "      <th>std</th>\n",
       "      <td>1.509567e+05</td>\n",
       "      <td>15.856335</td>\n",
       "      <td>16.282230</td>\n",
       "      <td>21.863265</td>\n",
       "      <td>11.202125</td>\n",
       "      <td>31.390650</td>\n",
       "      <td>34.198444</td>\n",
       "      <td>25.376009</td>\n",
       "      <td>32.967642</td>\n",
       "      <td>27.838913</td>\n",
       "      <td>23.889576</td>\n",
       "      <td>30.044674</td>\n",
       "      <td>10.728866</td>\n",
       "      <td>17.807253</td>\n",
       "      <td>24.203412</td>\n",
       "      <td>20.073111</td>\n",
       "      <td>20.731695</td>\n",
       "      <td>1.470003</td>\n",
       "    </tr>\n",
       "    <tr>\n",
       "      <th>min</th>\n",
       "      <td>1.632164e+12</td>\n",
       "      <td>239.000000</td>\n",
       "      <td>227.000000</td>\n",
       "      <td>319.000000</td>\n",
       "      <td>578.000000</td>\n",
       "      <td>369.000000</td>\n",
       "      <td>479.000000</td>\n",
       "      <td>235.000000</td>\n",
       "      <td>321.000000</td>\n",
       "      <td>226.000000</td>\n",
       "      <td>223.000000</td>\n",
       "      <td>414.000000</td>\n",
       "      <td>589.000000</td>\n",
       "      <td>274.000000</td>\n",
       "      <td>515.000000</td>\n",
       "      <td>312.000000</td>\n",
       "      <td>435.000000</td>\n",
       "      <td>0.000000</td>\n",
       "    </tr>\n",
       "    <tr>\n",
       "      <th>25%</th>\n",
       "      <td>1.632164e+12</td>\n",
       "      <td>271.000000</td>\n",
       "      <td>250.000000</td>\n",
       "      <td>343.000000</td>\n",
       "      <td>635.000000</td>\n",
       "      <td>417.000000</td>\n",
       "      <td>569.000000</td>\n",
       "      <td>258.000000</td>\n",
       "      <td>379.000000</td>\n",
       "      <td>266.000000</td>\n",
       "      <td>247.000000</td>\n",
       "      <td>445.000000</td>\n",
       "      <td>626.000000</td>\n",
       "      <td>296.000000</td>\n",
       "      <td>566.000000</td>\n",
       "      <td>343.000000</td>\n",
       "      <td>486.000000</td>\n",
       "      <td>0.000000</td>\n",
       "    </tr>\n",
       "    <tr>\n",
       "      <th>50%</th>\n",
       "      <td>1.632165e+12</td>\n",
       "      <td>281.000000</td>\n",
       "      <td>262.000000</td>\n",
       "      <td>355.000000</td>\n",
       "      <td>642.000000</td>\n",
       "      <td>435.000000</td>\n",
       "      <td>598.000000</td>\n",
       "      <td>269.000000</td>\n",
       "      <td>404.000000</td>\n",
       "      <td>282.000000</td>\n",
       "      <td>265.000000</td>\n",
       "      <td>463.000000</td>\n",
       "      <td>636.000000</td>\n",
       "      <td>307.000000</td>\n",
       "      <td>587.000000</td>\n",
       "      <td>357.000000</td>\n",
       "      <td>499.000000</td>\n",
       "      <td>0.000000</td>\n",
       "    </tr>\n",
       "    <tr>\n",
       "      <th>75%</th>\n",
       "      <td>1.632165e+12</td>\n",
       "      <td>292.000000</td>\n",
       "      <td>273.000000</td>\n",
       "      <td>373.000000</td>\n",
       "      <td>645.000000</td>\n",
       "      <td>459.000000</td>\n",
       "      <td>621.000000</td>\n",
       "      <td>284.000000</td>\n",
       "      <td>424.000000</td>\n",
       "      <td>299.000000</td>\n",
       "      <td>283.000000</td>\n",
       "      <td>485.000000</td>\n",
       "      <td>640.000000</td>\n",
       "      <td>321.000000</td>\n",
       "      <td>605.000000</td>\n",
       "      <td>372.000000</td>\n",
       "      <td>511.000000</td>\n",
       "      <td>0.000000</td>\n",
       "    </tr>\n",
       "    <tr>\n",
       "      <th>max</th>\n",
       "      <td>1.632165e+12</td>\n",
       "      <td>344.000000</td>\n",
       "      <td>347.000000</td>\n",
       "      <td>479.000000</td>\n",
       "      <td>662.000000</td>\n",
       "      <td>570.000000</td>\n",
       "      <td>657.000000</td>\n",
       "      <td>471.000000</td>\n",
       "      <td>601.000000</td>\n",
       "      <td>444.000000</td>\n",
       "      <td>424.000000</td>\n",
       "      <td>617.000000</td>\n",
       "      <td>655.000000</td>\n",
       "      <td>386.000000</td>\n",
       "      <td>639.000000</td>\n",
       "      <td>434.000000</td>\n",
       "      <td>587.000000</td>\n",
       "      <td>5.000000</td>\n",
       "    </tr>\n",
       "  </tbody>\n",
       "</table>\n",
       "</div>"
      ],
      "text/plain": [
       "       timestamp_milllisecs          ch1          ch2          ch3  \\\n",
       "count          7.249000e+03  7249.000000  7249.000000  7249.000000   \n",
       "mean           1.632165e+12   282.787143   263.237964   359.354670   \n",
       "std            1.509567e+05    15.856335    16.282230    21.863265   \n",
       "min            1.632164e+12   239.000000   227.000000   319.000000   \n",
       "25%            1.632164e+12   271.000000   250.000000   343.000000   \n",
       "50%            1.632165e+12   281.000000   262.000000   355.000000   \n",
       "75%            1.632165e+12   292.000000   273.000000   373.000000   \n",
       "max            1.632165e+12   344.000000   347.000000   479.000000   \n",
       "\n",
       "               ch4          ch5          ch6          ch7          ch8  \\\n",
       "count  7249.000000  7249.000000  7249.000000  7249.000000  7249.000000   \n",
       "mean    639.626569   440.305146   592.526693   275.211339   401.908539   \n",
       "std      11.202125    31.390650    34.198444    25.376009    32.967642   \n",
       "min     578.000000   369.000000   479.000000   235.000000   321.000000   \n",
       "25%     635.000000   417.000000   569.000000   258.000000   379.000000   \n",
       "50%     642.000000   435.000000   598.000000   269.000000   404.000000   \n",
       "75%     645.000000   459.000000   621.000000   284.000000   424.000000   \n",
       "max     662.000000   570.000000   657.000000   471.000000   601.000000   \n",
       "\n",
       "               ch9         ch10         ch11         ch12         ch13  \\\n",
       "count  7249.000000  7249.000000  7249.000000  7249.000000  7249.000000   \n",
       "mean    286.369568   266.106773   466.631811   633.424472   309.143744   \n",
       "std      27.838913    23.889576    30.044674    10.728866    17.807253   \n",
       "min     226.000000   223.000000   414.000000   589.000000   274.000000   \n",
       "25%     266.000000   247.000000   445.000000   626.000000   296.000000   \n",
       "50%     282.000000   265.000000   463.000000   636.000000   307.000000   \n",
       "75%     299.000000   283.000000   485.000000   640.000000   321.000000   \n",
       "max     444.000000   424.000000   617.000000   655.000000   386.000000   \n",
       "\n",
       "              ch14         ch15         ch16        label  \n",
       "count  7249.000000  7249.000000  7249.000000  7249.000000  \n",
       "mean    584.574838   358.186371   500.169265     0.743551  \n",
       "std      24.203412    20.073111    20.731695     1.470003  \n",
       "min     515.000000   312.000000   435.000000     0.000000  \n",
       "25%     566.000000   343.000000   486.000000     0.000000  \n",
       "50%     587.000000   357.000000   499.000000     0.000000  \n",
       "75%     605.000000   372.000000   511.000000     0.000000  \n",
       "max     639.000000   434.000000   587.000000     5.000000  "
      ]
     },
     "execution_count": 7,
     "metadata": {},
     "output_type": "execute_result"
    }
   ],
   "source": [
    "df.describe()"
   ]
  },
  {
   "cell_type": "code",
   "execution_count": 8,
   "metadata": {},
   "outputs": [
    {
     "data": {
      "text/html": [
       "<div>\n",
       "<style scoped>\n",
       "    .dataframe tbody tr th:only-of-type {\n",
       "        vertical-align: middle;\n",
       "    }\n",
       "\n",
       "    .dataframe tbody tr th {\n",
       "        vertical-align: top;\n",
       "    }\n",
       "\n",
       "    .dataframe thead th {\n",
       "        text-align: right;\n",
       "    }\n",
       "</style>\n",
       "<table border=\"1\" class=\"dataframe\">\n",
       "  <thead>\n",
       "    <tr style=\"text-align: right;\">\n",
       "      <th></th>\n",
       "      <th>timestamp_milllisecs</th>\n",
       "      <th>ch1</th>\n",
       "      <th>ch2</th>\n",
       "      <th>ch3</th>\n",
       "      <th>ch4</th>\n",
       "      <th>ch5</th>\n",
       "      <th>ch6</th>\n",
       "      <th>ch7</th>\n",
       "      <th>ch8</th>\n",
       "      <th>ch9</th>\n",
       "      <th>ch10</th>\n",
       "      <th>ch11</th>\n",
       "      <th>ch12</th>\n",
       "      <th>ch13</th>\n",
       "      <th>ch14</th>\n",
       "      <th>ch15</th>\n",
       "      <th>ch16</th>\n",
       "      <th>label</th>\n",
       "    </tr>\n",
       "  </thead>\n",
       "  <tbody>\n",
       "  </tbody>\n",
       "</table>\n",
       "</div>"
      ],
      "text/plain": [
       "Empty DataFrame\n",
       "Columns: [timestamp_milllisecs, ch1, ch2, ch3, ch4, ch5, ch6, ch7, ch8, ch9, ch10, ch11, ch12, ch13, ch14, ch15, ch16, label]\n",
       "Index: []"
      ]
     },
     "execution_count": 8,
     "metadata": {},
     "output_type": "execute_result"
    }
   ],
   "source": [
    "df[df.duplicated()]  #no duplicated data"
   ]
  },
  {
   "cell_type": "code",
   "execution_count": 9,
   "metadata": {},
   "outputs": [
    {
     "data": {
      "text/html": [
       "<div>\n",
       "<style scoped>\n",
       "    .dataframe tbody tr th:only-of-type {\n",
       "        vertical-align: middle;\n",
       "    }\n",
       "\n",
       "    .dataframe tbody tr th {\n",
       "        vertical-align: top;\n",
       "    }\n",
       "\n",
       "    .dataframe thead th {\n",
       "        text-align: right;\n",
       "    }\n",
       "</style>\n",
       "<table border=\"1\" class=\"dataframe\">\n",
       "  <thead>\n",
       "    <tr style=\"text-align: right;\">\n",
       "      <th></th>\n",
       "      <th>ch1</th>\n",
       "      <th>ch2</th>\n",
       "      <th>ch3</th>\n",
       "      <th>ch4</th>\n",
       "      <th>ch5</th>\n",
       "      <th>ch6</th>\n",
       "      <th>ch7</th>\n",
       "      <th>ch8</th>\n",
       "      <th>ch9</th>\n",
       "      <th>ch10</th>\n",
       "      <th>ch11</th>\n",
       "      <th>ch12</th>\n",
       "      <th>ch13</th>\n",
       "      <th>ch14</th>\n",
       "      <th>ch15</th>\n",
       "      <th>ch16</th>\n",
       "      <th>label</th>\n",
       "    </tr>\n",
       "  </thead>\n",
       "  <tbody>\n",
       "    <tr>\n",
       "      <th>0</th>\n",
       "      <td>276</td>\n",
       "      <td>270</td>\n",
       "      <td>345</td>\n",
       "      <td>645</td>\n",
       "      <td>426</td>\n",
       "      <td>626</td>\n",
       "      <td>256</td>\n",
       "      <td>426</td>\n",
       "      <td>285</td>\n",
       "      <td>295</td>\n",
       "      <td>471</td>\n",
       "      <td>641</td>\n",
       "      <td>306</td>\n",
       "      <td>611</td>\n",
       "      <td>353</td>\n",
       "      <td>497</td>\n",
       "      <td>0</td>\n",
       "    </tr>\n",
       "    <tr>\n",
       "      <th>1</th>\n",
       "      <td>269</td>\n",
       "      <td>269</td>\n",
       "      <td>352</td>\n",
       "      <td>645</td>\n",
       "      <td>426</td>\n",
       "      <td>626</td>\n",
       "      <td>252</td>\n",
       "      <td>427</td>\n",
       "      <td>290</td>\n",
       "      <td>289</td>\n",
       "      <td>476</td>\n",
       "      <td>640</td>\n",
       "      <td>307</td>\n",
       "      <td>614</td>\n",
       "      <td>352</td>\n",
       "      <td>493</td>\n",
       "      <td>0</td>\n",
       "    </tr>\n",
       "    <tr>\n",
       "      <th>2</th>\n",
       "      <td>266</td>\n",
       "      <td>271</td>\n",
       "      <td>345</td>\n",
       "      <td>644</td>\n",
       "      <td>432</td>\n",
       "      <td>624</td>\n",
       "      <td>252</td>\n",
       "      <td>430</td>\n",
       "      <td>293</td>\n",
       "      <td>289</td>\n",
       "      <td>478</td>\n",
       "      <td>639</td>\n",
       "      <td>307</td>\n",
       "      <td>615</td>\n",
       "      <td>349</td>\n",
       "      <td>497</td>\n",
       "      <td>0</td>\n",
       "    </tr>\n",
       "    <tr>\n",
       "      <th>3</th>\n",
       "      <td>268</td>\n",
       "      <td>271</td>\n",
       "      <td>336</td>\n",
       "      <td>645</td>\n",
       "      <td>430</td>\n",
       "      <td>621</td>\n",
       "      <td>256</td>\n",
       "      <td>427</td>\n",
       "      <td>294</td>\n",
       "      <td>293</td>\n",
       "      <td>479</td>\n",
       "      <td>638</td>\n",
       "      <td>306</td>\n",
       "      <td>609</td>\n",
       "      <td>351</td>\n",
       "      <td>499</td>\n",
       "      <td>0</td>\n",
       "    </tr>\n",
       "    <tr>\n",
       "      <th>4</th>\n",
       "      <td>273</td>\n",
       "      <td>268</td>\n",
       "      <td>337</td>\n",
       "      <td>645</td>\n",
       "      <td>420</td>\n",
       "      <td>622</td>\n",
       "      <td>260</td>\n",
       "      <td>423</td>\n",
       "      <td>295</td>\n",
       "      <td>292</td>\n",
       "      <td>480</td>\n",
       "      <td>640</td>\n",
       "      <td>306</td>\n",
       "      <td>606</td>\n",
       "      <td>353</td>\n",
       "      <td>495</td>\n",
       "      <td>0</td>\n",
       "    </tr>\n",
       "    <tr>\n",
       "      <th>...</th>\n",
       "      <td>...</td>\n",
       "      <td>...</td>\n",
       "      <td>...</td>\n",
       "      <td>...</td>\n",
       "      <td>...</td>\n",
       "      <td>...</td>\n",
       "      <td>...</td>\n",
       "      <td>...</td>\n",
       "      <td>...</td>\n",
       "      <td>...</td>\n",
       "      <td>...</td>\n",
       "      <td>...</td>\n",
       "      <td>...</td>\n",
       "      <td>...</td>\n",
       "      <td>...</td>\n",
       "      <td>...</td>\n",
       "      <td>...</td>\n",
       "    </tr>\n",
       "    <tr>\n",
       "      <th>7244</th>\n",
       "      <td>292</td>\n",
       "      <td>254</td>\n",
       "      <td>359</td>\n",
       "      <td>638</td>\n",
       "      <td>410</td>\n",
       "      <td>582</td>\n",
       "      <td>265</td>\n",
       "      <td>389</td>\n",
       "      <td>277</td>\n",
       "      <td>258</td>\n",
       "      <td>478</td>\n",
       "      <td>632</td>\n",
       "      <td>317</td>\n",
       "      <td>572</td>\n",
       "      <td>366</td>\n",
       "      <td>496</td>\n",
       "      <td>0</td>\n",
       "    </tr>\n",
       "    <tr>\n",
       "      <th>7245</th>\n",
       "      <td>288</td>\n",
       "      <td>254</td>\n",
       "      <td>368</td>\n",
       "      <td>638</td>\n",
       "      <td>412</td>\n",
       "      <td>586</td>\n",
       "      <td>261</td>\n",
       "      <td>391</td>\n",
       "      <td>277</td>\n",
       "      <td>253</td>\n",
       "      <td>478</td>\n",
       "      <td>632</td>\n",
       "      <td>316</td>\n",
       "      <td>576</td>\n",
       "      <td>365</td>\n",
       "      <td>494</td>\n",
       "      <td>0</td>\n",
       "    </tr>\n",
       "    <tr>\n",
       "      <th>7246</th>\n",
       "      <td>283</td>\n",
       "      <td>256</td>\n",
       "      <td>365</td>\n",
       "      <td>638</td>\n",
       "      <td>420</td>\n",
       "      <td>584</td>\n",
       "      <td>260</td>\n",
       "      <td>395</td>\n",
       "      <td>276</td>\n",
       "      <td>254</td>\n",
       "      <td>478</td>\n",
       "      <td>629</td>\n",
       "      <td>317</td>\n",
       "      <td>580</td>\n",
       "      <td>363</td>\n",
       "      <td>497</td>\n",
       "      <td>0</td>\n",
       "    </tr>\n",
       "    <tr>\n",
       "      <th>7247</th>\n",
       "      <td>285</td>\n",
       "      <td>257</td>\n",
       "      <td>356</td>\n",
       "      <td>637</td>\n",
       "      <td>424</td>\n",
       "      <td>580</td>\n",
       "      <td>263</td>\n",
       "      <td>395</td>\n",
       "      <td>275</td>\n",
       "      <td>258</td>\n",
       "      <td>478</td>\n",
       "      <td>628</td>\n",
       "      <td>317</td>\n",
       "      <td>576</td>\n",
       "      <td>363</td>\n",
       "      <td>500</td>\n",
       "      <td>0</td>\n",
       "    </tr>\n",
       "    <tr>\n",
       "      <th>7248</th>\n",
       "      <td>291</td>\n",
       "      <td>256</td>\n",
       "      <td>355</td>\n",
       "      <td>639</td>\n",
       "      <td>416</td>\n",
       "      <td>581</td>\n",
       "      <td>267</td>\n",
       "      <td>391</td>\n",
       "      <td>277</td>\n",
       "      <td>260</td>\n",
       "      <td>478</td>\n",
       "      <td>630</td>\n",
       "      <td>317</td>\n",
       "      <td>572</td>\n",
       "      <td>365</td>\n",
       "      <td>499</td>\n",
       "      <td>0</td>\n",
       "    </tr>\n",
       "  </tbody>\n",
       "</table>\n",
       "<p>7249 rows × 17 columns</p>\n",
       "</div>"
      ],
      "text/plain": [
       "      ch1  ch2  ch3  ch4  ch5  ch6  ch7  ch8  ch9  ch10  ch11  ch12  ch13  \\\n",
       "0     276  270  345  645  426  626  256  426  285   295   471   641   306   \n",
       "1     269  269  352  645  426  626  252  427  290   289   476   640   307   \n",
       "2     266  271  345  644  432  624  252  430  293   289   478   639   307   \n",
       "3     268  271  336  645  430  621  256  427  294   293   479   638   306   \n",
       "4     273  268  337  645  420  622  260  423  295   292   480   640   306   \n",
       "...   ...  ...  ...  ...  ...  ...  ...  ...  ...   ...   ...   ...   ...   \n",
       "7244  292  254  359  638  410  582  265  389  277   258   478   632   317   \n",
       "7245  288  254  368  638  412  586  261  391  277   253   478   632   316   \n",
       "7246  283  256  365  638  420  584  260  395  276   254   478   629   317   \n",
       "7247  285  257  356  637  424  580  263  395  275   258   478   628   317   \n",
       "7248  291  256  355  639  416  581  267  391  277   260   478   630   317   \n",
       "\n",
       "      ch14  ch15  ch16  label  \n",
       "0      611   353   497      0  \n",
       "1      614   352   493      0  \n",
       "2      615   349   497      0  \n",
       "3      609   351   499      0  \n",
       "4      606   353   495      0  \n",
       "...    ...   ...   ...    ...  \n",
       "7244   572   366   496      0  \n",
       "7245   576   365   494      0  \n",
       "7246   580   363   497      0  \n",
       "7247   576   363   500      0  \n",
       "7248   572   365   499      0  \n",
       "\n",
       "[7249 rows x 17 columns]"
      ]
     },
     "execution_count": 9,
     "metadata": {},
     "output_type": "execute_result"
    }
   ],
   "source": [
    "df = df.iloc[: , 1:]\n",
    "df"
   ]
  },
  {
   "cell_type": "code",
   "execution_count": 10,
   "metadata": {},
   "outputs": [
    {
     "data": {
      "text/plain": [
       "0    5443\n",
       "1     364\n",
       "2     364\n",
       "3     364\n",
       "4     364\n",
       "5     350\n",
       "Name: label, dtype: int64"
      ]
     },
     "execution_count": 10,
     "metadata": {},
     "output_type": "execute_result"
    }
   ],
   "source": [
    "df.label.value_counts().sort_index()"
   ]
  },
  {
   "cell_type": "code",
   "execution_count": 11,
   "metadata": {},
   "outputs": [
    {
     "ename": "NameError",
     "evalue": "name 'px' is not defined",
     "output_type": "error",
     "traceback": [
      "\u001b[1;31m---------------------------------------------------------------------------\u001b[0m",
      "\u001b[1;31mNameError\u001b[0m                                 Traceback (most recent call last)",
      "\u001b[1;32m<ipython-input-11-0e48bf212174>\u001b[0m in \u001b[0;36m<module>\u001b[1;34m\u001b[0m\n\u001b[1;32m----> 1\u001b[1;33m \u001b[0mfig\u001b[0m \u001b[1;33m=\u001b[0m \u001b[0mpx\u001b[0m\u001b[1;33m.\u001b[0m\u001b[0mhistogram\u001b[0m\u001b[1;33m(\u001b[0m\u001b[0mdf\u001b[0m\u001b[1;33m.\u001b[0m\u001b[0mlabel\u001b[0m\u001b[1;33m,\u001b[0m \u001b[0mx\u001b[0m\u001b[1;33m=\u001b[0m\u001b[1;34m\"label\"\u001b[0m\u001b[1;33m)\u001b[0m\u001b[1;33m\u001b[0m\u001b[1;33m\u001b[0m\u001b[0m\n\u001b[0m\u001b[0;32m      2\u001b[0m \u001b[0mfig\u001b[0m\u001b[1;33m.\u001b[0m\u001b[0mupdate_layout\u001b[0m\u001b[1;33m(\u001b[0m\u001b[0mbargap\u001b[0m\u001b[1;33m=\u001b[0m\u001b[1;36m0.2\u001b[0m\u001b[1;33m)\u001b[0m\u001b[1;33m\u001b[0m\u001b[1;33m\u001b[0m\u001b[0m\n\u001b[0;32m      3\u001b[0m \u001b[0mfig\u001b[0m\u001b[1;33m.\u001b[0m\u001b[0mshow\u001b[0m\u001b[1;33m(\u001b[0m\u001b[1;33m)\u001b[0m\u001b[1;33m\u001b[0m\u001b[1;33m\u001b[0m\u001b[0m\n",
      "\u001b[1;31mNameError\u001b[0m: name 'px' is not defined"
     ]
    }
   ],
   "source": [
    "fig = px.histogram(df.label, x=\"label\")\n",
    "fig.update_layout(bargap=0.2)\n",
    "fig.show()"
   ]
  },
  {
   "cell_type": "code",
   "execution_count": 12,
   "metadata": {
    "scrolled": true
   },
   "outputs": [
    {
     "data": {
      "image/png": "[encoded data removed]",
      "text/plain": [
       "<Figure size 1224x648 with 1 Axes>"
      ]
     },
     "metadata": {
      "needs_background": "light"
     },
     "output_type": "display_data"
    },
    {
     "data": {
      "image/png": "[encoded data removed]",
      "text/plain": [
       "<Figure size 432x288 with 1 Axes>"
      ]
     },
     "metadata": {
      "needs_background": "light"
     },
     "output_type": "display_data"
    },
    {
     "data": {
      "image/png": "[encoded data removed]",
      "text/plain": [
       "<Figure size 432x288 with 1 Axes>"
      ]
     },
     "metadata": {
      "needs_background": "light"
     },
     "output_type": "display_data"
    },
    {
     "data": {
      "image/png": "[encoded data removed]",
      "text/plain": [
       "<Figure size 432x288 with 1 Axes>"
      ]
     },
     "metadata": {
      "needs_background": "light"
     },
     "output_type": "display_data"
    },
    {
     "data": {
      "image/png": "[encoded data removed]",
      "text/plain": [
       "<Figure size 432x288 with 1 Axes>"
      ]
     },
     "metadata": {
      "needs_background": "light"
     },
     "output_type": "display_data"
    },
    {
     "data": {
      "image/png": "[encoded data removed]",
      "text/plain": [
       "<Figure size 432x288 with 1 Axes>"
      ]
     },
     "metadata": {
      "needs_background": "light"
     },
     "output_type": "display_data"
    },
    {
     "data": {
      "image/png": "[encoded data removed]",
      "text/plain": [
       "<Figure size 432x288 with 1 Axes>"
      ]
     },
     "metadata": {
      "needs_background": "light"
     },
     "output_type": "display_data"
    },
    {
     "data": {
      "image/png": "[encoded data removed]",
      "text/plain": [
       "<Figure size 432x288 with 1 Axes>"
      ]
     },
     "metadata": {
      "needs_background": "light"
     },
     "output_type": "display_data"
    },
    {
     "data": {
      "image/png": "[encoded data removed]",
      "text/plain": [
       "<Figure size 432x288 with 1 Axes>"
      ]
     },
     "metadata": {
      "needs_background": "light"
     },
     "output_type": "display_data"
    },
    {
     "data": {
      "image/png": "[encoded data removed]",
      "text/plain": [
       "<Figure size 432x288 with 1 Axes>"
      ]
     },
     "metadata": {
      "needs_background": "light"
     },
     "output_type": "display_data"
    },
    {
     "data": {
      "image/png": "[encoded data removed]",
      "text/plain": [
       "<Figure size 432x288 with 1 Axes>"
      ]
     },
     "metadata": {
      "needs_background": "light"
     },
     "output_type": "display_data"
    },
    {
     "data": {
      "image/png": "[encoded data removed]",
      "text/plain": [
       "<Figure size 432x288 with 1 Axes>"
      ]
     },
     "metadata": {
      "needs_background": "light"
     },
     "output_type": "display_data"
    },
    {
     "data": {
      "image/png": "[encoded data removed]",
      "text/plain": [
       "<Figure size 432x288 with 1 Axes>"
      ]
     },
     "metadata": {
      "needs_background": "light"
     },
     "output_type": "display_data"
    },
    {
     "data": {
      "image/png": "[encoded data removed]",
      "text/plain": [
       "<Figure size 432x288 with 1 Axes>"
      ]
     },
     "metadata": {
      "needs_background": "light"
     },
     "output_type": "display_data"
    },
    {
     "data": {
      "image/png": "[encoded data removed]",
      "text/plain": [
       "<Figure size 432x288 with 1 Axes>"
      ]
     },
     "metadata": {
      "needs_background": "light"
     },
     "output_type": "display_data"
    },
    {
     "data": {
      "image/png": "[encoded data removed]",
      "text/plain": [
       "<Figure size 432x288 with 1 Axes>"
      ]
     },
     "metadata": {
      "needs_background": "light"
     },
     "output_type": "display_data"
    }
   ],
   "source": [
    "a = 4\n",
    "b = 4\n",
    "c = 1\n",
    "plt.figure(figsize=(17,9))\n",
    "for i in range(1,17):\n",
    "    plt.subplot(a, b, c)\n",
    "    sns.barplot(x = 'label', y = f'ch{i}', data  =df, palette=\"winter_r\")\n",
    "    c = c+1\n",
    "    plt.show()"
   ]
  },
  {
   "cell_type": "markdown",
   "metadata": {},
   "source": [
    "## Train Validation Spliting"
   ]
  },
  {
   "cell_type": "code",
   "execution_count": 13,
   "metadata": {},
   "outputs": [],
   "source": [
    "X = df.drop(\"label\", axis= \"columns\") # X columns are the independant variables\n",
    "y = df.label                          # y is dependant variable"
   ]
  },
  {
   "cell_type": "code",
   "execution_count": 14,
   "metadata": {},
   "outputs": [],
   "source": [
    "X_train, X_test, y_train, y_test = train_test_split(X, y, test_size=0.2, random_state=200)"
   ]
  },
  {
   "cell_type": "markdown",
   "metadata": {},
   "source": [
    "# Decision Tree Model: (Accuracy 90.8%)"
   ]
  },
  {
   "cell_type": "code",
   "execution_count": 15,
   "metadata": {},
   "outputs": [],
   "source": [
    "\n",
    "def get_results_multi(clf,clf_name,x_train,y_train,x_test,y_test):\n",
    "    y_pred = clf.predict(x_test)\n",
    "    print('Training Accuracy('+clf_name+'): {:2.2%}'.format(accuracy_score(y_train, clf.predict(x_train))))    \n",
    "    print('Test Accuracy('+clf_name+'): {:2.2%}\\n'.format(accuracy_score(y_test, clf.predict(x_test))))\n",
    "    print('Classification Report('+clf_name+'): \\n' + classification_report(y_test, y_pred))\n",
    "    \n",
    "    probs = clf.predict_proba(x_test) # Predict class probabilities of the input samples \n",
    "    preds = probs[:,1]\n",
    "    \n",
    "    \n",
    "    print('10 fold Cross Validation('+clf_name+'):')\n",
    "    cv_accuracy = cross_val_score(clf, x_train, y_train, cv=10, scoring='accuracy')\n",
    "    print('Accuracy: {:2.2%}'.format(np.mean(cv_accuracy)))\n",
    "    \n",
    "    cm = confusion_matrix(y_test, y_pred)\n",
    "    plt.figure(figsize=(8,8))\n",
    "    sns.heatmap(cm, annot = True, fmt=\"d\", linewidths=.5, square = True,cmap='Blues')\n",
    "    plt.ylabel('Actual Label')\n",
    "    plt.xlabel('Predicted Label')\n",
    "    plt.title('Confusion Matrix ('+clf_name+')',fontsize=16)\n",
    "\n",
    "    features = X.columns.tolist()\n",
    "    tmp = pd.DataFrame({'Feature': features, 'Feature Importance': clf.feature_importances_})\n",
    "    tmp = tmp.sort_values(by='Feature Importance',ascending=False)\n",
    "    plt.figure(figsize = (10,6))\n",
    "    plt.title('Features Importance',fontsize=16)\n",
    "    s = sns.barplot(x='Feature',y='Feature Importance',data=tmp)\n",
    "    s.set_xticklabels(s.get_xticklabels(),rotation=90)\n",
    "    plt.show()"
   ]
  },
  {
   "cell_type": "code",
   "execution_count": 20,
   "metadata": {},
   "outputs": [
    {
     "data": {
      "text/plain": [
       "DecisionTreeClassifier(max_depth=16, min_samples_leaf=3, random_state=10)"
      ]
     },
     "execution_count": 20,
     "metadata": {},
     "output_type": "execute_result"
    }
   ],
   "source": [
    "\n",
    "# Fit on train set\n",
    "modelDT3 = DecisionTreeClassifier(random_state = 10,\n",
    "                             max_depth = 16,\n",
    "                             min_samples_leaf = 3,\n",
    "                            )\n",
    "modelDT3.fit(X_train, y_train)"
   ]
  },
  {
   "cell_type": "code",
   "execution_count": 21,
   "metadata": {
    "scrolled": true
   },
   "outputs": [
    {
     "name": "stdout",
     "output_type": "stream",
     "text": [
      "Training Accuracy(Decision Tree): 96.41%\n",
      "Test Accuracy(Decision Tree): 89.93%\n",
      "\n",
      "Classification Report(Decision Tree): \n",
      "              precision    recall  f1-score   support\n",
      "\n",
      "           0       0.96      0.97      0.96      1089\n",
      "           1       0.74      0.68      0.71        78\n",
      "           2       0.80      0.67      0.73        67\n",
      "           3       0.67      0.73      0.70        67\n",
      "           4       0.66      0.67      0.67        79\n",
      "           5       0.71      0.70      0.71        70\n",
      "\n",
      "    accuracy                           0.90      1450\n",
      "   macro avg       0.76      0.74      0.75      1450\n",
      "weighted avg       0.90      0.90      0.90      1450\n",
      "\n",
      "10 fold Cross Validation(Decision Tree):\n",
      "Accuracy: 90.71%\n"
     ]
    },
    {
     "data": {
      "image/png": "[encoded data removed]",
      "text/plain": [
       "<Figure size 576x576 with 2 Axes>"
      ]
     },
     "metadata": {
      "needs_background": "light"
     },
     "output_type": "display_data"
    },
    {
     "data": {
      "image/png": "[encoded data removed]",
      "text/plain": [
       "<Figure size 720x432 with 1 Axes>"
      ]
     },
     "metadata": {
      "needs_background": "light"
     },
     "output_type": "display_data"
    }
   ],
   "source": [
    "get_results_multi(modelDT3,'Decision Tree',X_train,y_train,X_test,y_test)"
   ]
  },
  {
   "cell_type": "code",
   "execution_count": null,
   "metadata": {},
   "outputs": [],
   "source": []
  },
  {
   "cell_type": "code",
   "execution_count": null,
   "metadata": {},
   "outputs": [],
   "source": []
  }
 ],
 "metadata": {
  "colab": {
   "authorship_tag": "ABX9TyNtzBIPVfyMvvs3WmEPMYmx",
   "collapsed_sections": [],
   "name": "FingerMotionClassificationStarterColab.ipynb",
   "provenance": []
  },
  "kernelspec": {
   "display_name": "Python 3",
   "language": "python",
   "name": "python3"
  },
  "language_info": {
   "codemirror_mode": {
    "name": "ipython",
    "version": 3
   },
   "file_extension": ".py",
   "mimetype": "text/x-python",
   "name": "python",
   "nbconvert_exporter": "python",
   "pygments_lexer": "ipython3",
   "version": "3.8.3"
  }
 },
 "nbformat": 4,
 "nbformat_minor": 1
}
